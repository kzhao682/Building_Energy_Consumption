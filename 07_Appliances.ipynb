{
 "cells": [
  {
   "cell_type": "code",
   "execution_count": 1,
   "metadata": {},
   "outputs": [
    {
     "name": "stderr",
     "output_type": "stream",
     "text": [
      "/usr/local/lib/python3.5/dist-packages/statsmodels/compat/pandas.py:56: FutureWarning: The pandas.core.datetools module is deprecated and will be removed in a future version. Please use the pandas.tseries module instead.\n",
      "  from pandas.core import datetools\n"
     ]
    }
   ],
   "source": [
    "import pandas as pd\n",
    "import numpy as np\n",
    "import pickle\n",
    "from script import *\n",
    "from sarimax_script import *\n",
    "from garch_script import *"
   ]
  },
  {
   "cell_type": "code",
   "execution_count": 2,
   "metadata": {
    "collapsed": true
   },
   "outputs": [],
   "source": [
    "plt.rc('figure', figsize=(18.0, 6.0))"
   ]
  },
  {
   "cell_type": "code",
   "execution_count": 3,
   "metadata": {
    "collapsed": true
   },
   "outputs": [],
   "source": [
    "pd.set_option('display.max_columns', None) "
   ]
  },
  {
   "cell_type": "code",
   "execution_count": 4,
   "metadata": {
    "collapsed": true
   },
   "outputs": [],
   "source": [
    "df_meta = pickle.load(open('pickle_files/df_meta_refined.p', 'rb'))"
   ]
  },
  {
   "cell_type": "code",
   "execution_count": 22,
   "metadata": {
    "collapsed": true
   },
   "outputs": [],
   "source": [
    "def average_appliances(appliances, start=None, end=None):\n",
    "    appliance_data ={}\n",
    "    for appliance in appliances:\n",
    "        building_id = df_meta[df_meta[appliance]=='yes'].index\n",
    "        total_use = 0\n",
    "        count = 0\n",
    "        for building in building_id:\n",
    "            try:\n",
    "                data = pickle.load(open('pickle_files/df_{}.p'.format(building),'rb'))\n",
    "                data = data.sort_values('localhour', ascending=True)\n",
    "                data.index = data.apply(strip_tz, axis=1)\n",
    "                if start and end:\n",
    "                    use = data.loc[start:end, appliance]\n",
    "                else:\n",
    "                    use = data.loc['2016-10-01 00:00:00':'2016-10-31 00:00:00', appliance]\n",
    "                if sum(use) > 0:\n",
    "                    total_use += sum(use)\n",
    "                    count += 1\n",
    "            except:\n",
    "                continue\n",
    "        appliance_data[appliance] = total_use/count\n",
    "        print(appliance, appliance_data[appliance])\n",
    "        \n",
    "    return appliance_data"
   ]
  },
  {
   "cell_type": "code",
   "execution_count": 23,
   "metadata": {
    "collapsed": true
   },
   "outputs": [],
   "source": [
    "def monthly_usage(building_id, appliances, start=None, end=None):\n",
    "    \n",
    "    appliance_data = {}\n",
    "    \n",
    "    for appliance in appliances:\n",
    "        data = pickle.load(open('pickle_files/df_{}.p'.format(building_id),'rb'))\n",
    "        data = data.sort_values('localhour', ascending=True)\n",
    "        data.index = data.apply(strip_tz, axis=1)\n",
    "        if start and end:\n",
    "            total_use = data.loc[start:end, appliance]\n",
    "        else:\n",
    "            total_use = data.loc['2016-10-01 00:00:00': '2016-10-31 00:00:00',appliance]\n",
    "        appliance_data[appliance] = total_use\n",
    "        \n",
    "    return appliance_data"
   ]
  },
  {
   "cell_type": "markdown",
   "metadata": {},
   "source": [
    "Find average monthly usage of each appliance"
   ]
  },
  {
   "cell_type": "code",
   "execution_count": 24,
   "metadata": {
    "collapsed": true
   },
   "outputs": [],
   "source": [
    "appliances = ['air1','bedroom1','dishwasher1','dryg1','furnace1','livingroom1','microwave1','refrigerator1']"
   ]
  },
  {
   "cell_type": "code",
   "execution_count": 19,
   "metadata": {},
   "outputs": [
    {
     "name": "stdout",
     "output_type": "stream",
     "text": [
      "air1 266.912446867\n",
      "bedroom1 24.0884788889\n",
      "dishwasher1 11.4475900419\n",
      "dryg1 6.03030797101\n",
      "furnace1 86.075987585\n",
      "livingroom1 56.9756880117\n",
      "microwave1 7.62495095238\n",
      "refrigerator1 64.5949232239\n"
     ]
    }
   ],
   "source": [
    "# appliance_use = average_appliances(appliances)"
   ]
  },
  {
   "cell_type": "code",
   "execution_count": 27,
   "metadata": {},
   "outputs": [],
   "source": [
    "# pickle.dump(appliance_use, open('average_appliance.p', 'wb'))\n",
    "appliance_use = pickle.load(open('average_appliance.p', 'rb'))"
   ]
  },
  {
   "cell_type": "code",
   "execution_count": null,
   "metadata": {
    "collapsed": true
   },
   "outputs": [],
   "source": []
  },
  {
   "cell_type": "code",
   "execution_count": null,
   "metadata": {
    "collapsed": true
   },
   "outputs": [],
   "source": []
  }
 ],
 "metadata": {
  "kernelspec": {
   "display_name": "Python 3",
   "language": "python",
   "name": "python3"
  },
  "language_info": {
   "codemirror_mode": {
    "name": "ipython",
    "version": 3
   },
   "file_extension": ".py",
   "mimetype": "text/x-python",
   "name": "python",
   "nbconvert_exporter": "python",
   "pygments_lexer": "ipython3",
   "version": "3.5.2"
  }
 },
 "nbformat": 4,
 "nbformat_minor": 2
}
